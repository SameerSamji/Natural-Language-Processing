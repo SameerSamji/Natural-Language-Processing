{
 "cells": [
  {
   "cell_type": "markdown",
   "metadata": {
    "id": "JsBlNimuKCkz"
   },
   "source": [
    "In this exercise we use a dataset of movie lines to train Word Embeddings."
   ]
  },
  {
   "cell_type": "markdown",
   "metadata": {
    "id": "LTkwpU5MKQ6p"
   },
   "source": [
    "# Prepare the data\n"
   ]
  },
  {
   "cell_type": "markdown",
   "metadata": {
    "id": "0iKP9UUnLhKB"
   },
   "source": [
    "## Reading the text\n",
    "\n",
    "Load the data (see .zip file in Learnweb) into the environment of this notebook. \n",
    "\n",
    "If you are using google colab, you can upload the file as follows:"
   ]
  },
  {
   "cell_type": "markdown",
   "metadata": {
    "id": "v22X8upnKzwF"
   },
   "source": [
    "Extract the contents of the zip file."
   ]
  },
  {
   "cell_type": "code",
   "execution_count": 1,
   "metadata": {
    "id": "SdiX_aRyqA3W"
   },
   "outputs": [],
   "source": [
    "from zipfile import ZipFile\n",
    "with ZipFile('movie_lines.tsv.zip', 'r') as zipObj:\n",
    "    zipObj.extractall()"
   ]
  },
  {
   "cell_type": "markdown",
   "metadata": {
    "id": "-lnXHL2wK8sh"
   },
   "source": [
    "Read the file and extract the text.\n",
    "\n",
    "Note: reading the file with pandas or csv module does not work well, this file has a bad tsv format."
   ]
  },
  {
   "cell_type": "code",
   "execution_count": 2,
   "metadata": {
    "colab": {
     "base_uri": "https://localhost:8080/"
    },
    "id": "F9RA82WMvcL1",
    "outputId": "d4782522-1fdc-4517-ae61-7a28756fdc63"
   },
   "outputs": [
    {
     "data": {
      "text/plain": [
       "304713"
      ]
     },
     "execution_count": 2,
     "metadata": {},
     "output_type": "execute_result"
    }
   ],
   "source": [
    "movie_lines = []\n",
    "for line in open('movie_lines.tsv', encoding='utf8'):\n",
    "    line = line.strip()\n",
    "    while line[0] == '\"' and line[-1] == '\"':\n",
    "        line = line[1:-1]\n",
    "    movie_lines.append(line.split('\\t')[-1])\n",
    "movie_lines = [l.replace('\"\"', '\"').replace('  ', ' ') for l in movie_lines]\n",
    "len(movie_lines)"
   ]
  },
  {
   "cell_type": "code",
   "execution_count": 3,
   "metadata": {
    "colab": {
     "base_uri": "https://localhost:8080/"
    },
    "id": "rBXk8kuXrErJ",
    "outputId": "b4256ba2-89b4-4b63-f6dc-6230d2c39d72"
   },
   "outputs": [
    {
     "data": {
      "text/plain": [
       "[\"That's because it's such a nice one.\",\n",
       " \"I don't want to know how to say that though. I want to know useful things. Like where the good stores are. How much does champagne cost? Stuff like Chat. I have never in my life had to point out my head to someone.\",\n",
       " \"Right. See? You're ready for the quiz.\",\n",
       " \"C'esc ma tete. This is my head\",\n",
       " 'Let me see what I can do.',\n",
       " 'Gosh if only we could find Kat a boyfriend...',\n",
       " \"That's a shame.\",\n",
       " 'Unsolved mystery. She used to be really popular when she started high school then it was just like she got sick of it or something.',\n",
       " 'Why?',\n",
       " 'Seems like she could get a date easy enough...',\n",
       " \"The thing is Cameron -- I'm at the mercy of a particularly hideous breed of loser. My sister. I can't date until she does.\",\n",
       " 'Cameron.',\n",
       " \"No no it's my fault -- we didn't have a proper introduction ---\",\n",
       " 'Forget it.',\n",
       " \"You're asking me out. That's so cute. What's your name again?\",\n",
       " \"Okay... then how 'bout we try out some French cuisine. Saturday? Night?\",\n",
       " 'Not the hacking and gagging and spitting part. Please.',\n",
       " \"Well I thought we'd start with pronunciation if that's okay with you.\",\n",
       " 'Can we make this quick? Roxanne Korrine and Andrew Barrett are having an incredibly horrendous public break- up on the quad. Again.',\n",
       " 'I did.']"
      ]
     },
     "execution_count": 3,
     "metadata": {},
     "output_type": "execute_result"
    }
   ],
   "source": [
    "movie_lines[50:70]"
   ]
  },
  {
   "cell_type": "markdown",
   "metadata": {
    "id": "vYBqSeC0Ln9G"
   },
   "source": [
    "## Pre-processing\n",
    "\n",
    "Tokenization:"
   ]
  },
  {
   "cell_type": "code",
   "execution_count": 4,
   "metadata": {
    "colab": {
     "base_uri": "https://localhost:8080/"
    },
    "id": "YIX5SgAN0RpL",
    "outputId": "2190d7af-c478-410b-ffeb-52db9e3de8ad"
   },
   "outputs": [],
   "source": [
    "import nltk\n",
    "#nltk.download('punkt')\n",
    "from nltk.tokenize import sent_tokenize\n",
    "from nltk.tokenize import TweetTokenizer\n",
    "\n",
    "tokenizer = TweetTokenizer(preserve_case=False)"
   ]
  },
  {
   "cell_type": "code",
   "execution_count": 5,
   "metadata": {
    "colab": {
     "base_uri": "https://localhost:8080/"
    },
    "id": "9p9TFyORwY_T",
    "outputId": "6c1ecb1e-9976-41b7-d90d-89e0ec5ce7c2"
   },
   "outputs": [
    {
     "data": {
      "text/plain": [
       "516218"
      ]
     },
     "execution_count": 5,
     "metadata": {},
     "output_type": "execute_result"
    }
   ],
   "source": [
    "sentences = []\n",
    "for line in movie_lines:\n",
    "    line_sents = sent_tokenize(line)\n",
    "    for sent in line_sents:\n",
    "        sentences.append(tokenizer.tokenize(sent))\n",
    "len(sentences)"
   ]
  },
  {
   "cell_type": "code",
   "execution_count": 6,
   "metadata": {
    "colab": {
     "base_uri": "https://localhost:8080/"
    },
    "id": "xyr9VRDF0b4S",
    "outputId": "7345fbff-40b6-4674-c220-a54814d4ee32"
   },
   "outputs": [
    {
     "data": {
      "text/plain": [
       "[['this', 'is', 'my', 'head'],\n",
       " ['let', 'me', 'see', 'what', 'i', 'can', 'do', '.'],\n",
       " ['gosh', 'if', 'only', 'we', 'could', 'find', 'kat', 'a', 'boyfriend', '...'],\n",
       " [\"that's\", 'a', 'shame', '.'],\n",
       " ['unsolved', 'mystery', '.']]"
      ]
     },
     "execution_count": 6,
     "metadata": {},
     "output_type": "execute_result"
    }
   ],
   "source": [
    "sentences[76:81]"
   ]
  },
  {
   "cell_type": "markdown",
   "metadata": {
    "id": "5WYp-hsFNLZH"
   },
   "source": [
    "Further processing, e.g. removing punctuation and stopwords? <br>\n",
    "While stopwords do not have lexical meaning, we still can follow meaning for other words from their distribution around stopwords (e.g. nouns often occur after determiners; being able to distinguish words by their parts of speech can be important for semantic analyses). Thus, we should probably not remove those.<br> If you do, you have to justify your decision and should evaluate its effect."
   ]
  },
  {
   "cell_type": "code",
   "execution_count": 7,
   "metadata": {
    "colab": {
     "base_uri": "https://localhost:8080/"
    },
    "id": "jCL941hT1e_Z",
    "outputId": "d04e9fb3-d1ce-45d9-a0ac-f1e9b806cab2"
   },
   "outputs": [
    {
     "data": {
      "text/plain": [
       "3830690"
      ]
     },
     "execution_count": 7,
     "metadata": {},
     "output_type": "execute_result"
    }
   ],
   "source": [
    "# total number of words\n",
    "len([c for clist in sentences for c in clist])"
   ]
  },
  {
   "cell_type": "code",
   "execution_count": 8,
   "metadata": {
    "colab": {
     "base_uri": "https://localhost:8080/"
    },
    "id": "2gDthHOq0kg7",
    "outputId": "f13d336d-b527-4a88-c3b5-dd3394e8e672"
   },
   "outputs": [
    {
     "data": {
      "text/plain": [
       "61238"
      ]
     },
     "execution_count": 8,
     "metadata": {},
     "output_type": "execute_result"
    }
   ],
   "source": [
    "# number of tokens (unique words)\n",
    "from collections import Counter\n",
    "\n",
    "words = Counter(c for clist in sentences for c in clist)\n",
    "len(words)"
   ]
  },
  {
   "cell_type": "code",
   "execution_count": 9,
   "metadata": {
    "colab": {
     "base_uri": "https://localhost:8080/",
     "height": 55
    },
    "id": "B7O9SYxwt0fU",
    "outputId": "0228c6c7-d053-4cd4-94f5-95e258689d0f"
   },
   "outputs": [
    {
     "data": {
      "text/plain": [
       "\"Counter({'.': 342146, 'you': 128297, '?': 110199, 'i': 103456, 'the': 99061, 'to': 80585, 'a': 71092, '-': 55093, '...': 51430, 'it': 47335, 'and': 45812,\""
      ]
     },
     "execution_count": 9,
     "metadata": {},
     "output_type": "execute_result"
    }
   ],
   "source": [
    "str(words)[:154]"
   ]
  },
  {
   "cell_type": "markdown",
   "metadata": {
    "id": "S029MQexh7z_"
   },
   "source": [
    "# Training Word Embeddings\n"
   ]
  },
  {
   "cell_type": "code",
   "execution_count": 10,
   "metadata": {
    "id": "msCCRj8VbULP"
   },
   "outputs": [],
   "source": [
    "# load library gensim (contains word2vec implementation)\n",
    "import gensim\n",
    "\n",
    "# ignore some warnings (probably caused by gensim version)\n",
    "import warnings\n",
    "warnings.filterwarnings(\"ignore\", category=DeprecationWarning)\n",
    "warnings.simplefilter(action='ignore', category=FutureWarning)\n",
    "\n",
    "import multiprocessing\n",
    "cores = multiprocessing.cpu_count()"
   ]
  },
  {
   "cell_type": "code",
   "execution_count": 11,
   "metadata": {
    "colab": {
     "base_uri": "https://localhost:8080/",
     "height": 36
    },
    "id": "qr5vNv3GN8y5",
    "outputId": "d8b3d7d4-21c2-434d-e520-0a14198230ba"
   },
   "outputs": [
    {
     "data": {
      "text/plain": [
       "'4.2.0'"
      ]
     },
     "execution_count": 11,
     "metadata": {},
     "output_type": "execute_result"
    }
   ],
   "source": [
    "gensim.__version__\n",
    "# Note: this notebook was tested with gensim version 3.6.0"
   ]
  },
  {
   "cell_type": "markdown",
   "metadata": {
    "id": "x1Bi4GSwd_Up"
   },
   "source": [
    "\n",
    "## Initializing the NN model\n",
    "\n",
    "Parameters:\n",
    "(see https://radimrehurek.com/gensim/models/word2vec.html#gensim.models.word2vec.Word2Vec )\n",
    "\n",
    "min_count = int - Ignores all words with total absolute frequency lower than this - (2, 100) <br>\n",
    "window = int - The maximum distance between the current and predicted word within a sentence. E.g. window words on the left and window words on the left of our target - (2, 10) <br>\n",
    "size = int - Dimensionality of the feature vectors. - (50, 300) <br>\n",
    "sample = float - The threshold for configuring which higher-frequency words are randomly downsampled. Highly influencial. - (0, 1e-5) <br>\n",
    "alpha = float - The initial learning rate - (0.01, 0.05) <br>\n",
    "min_alpha = float - Learning rate will linearly drop to min_alpha as training progresses. To set it: alpha - (min_alpha * epochs) ~ 0.00 <br>\n",
    "negative = int - If > 0, negative sampling will be used, the int for negative specifies how many \"noise words\" should be drown. If set to 0, no negative sampling is used. - (5, 20) <br>\n",
    "workers = int - Use these many worker threads to train the model (=faster training with multicore machines) <br>\n",
    "sg = {0, 1}, optional - Training algorithm: 1 for skip-gram; otherwise CBOW.\n"
   ]
  },
  {
   "cell_type": "code",
   "execution_count": 12,
   "metadata": {
    "id": "oWE2qT8eeENV"
   },
   "outputs": [],
   "source": [
    "import multiprocessing\n",
    "cores = multiprocessing.cpu_count()\n",
    "\n",
    "w2v_model = gensim.models.Word2Vec(min_count=5,\n",
    "                                   window=3,\n",
    "                                   vector_size=100,  # this parameter is called 'vector_size' in more recent versions of gensim\n",
    "                                   workers=cores,\n",
    "                                   sg=1\n",
    "                                   )"
   ]
  },
  {
   "cell_type": "markdown",
   "metadata": {
    "id": "24a7aD57ef4A"
   },
   "source": [
    "## Training the Word2Vec model with our data\n"
   ]
  },
  {
   "cell_type": "code",
   "execution_count": 13,
   "metadata": {
    "id": "FmTTk6dPeOxI"
   },
   "outputs": [],
   "source": [
    "# defining the vocabulary based on our data\n",
    "w2v_model.build_vocab(sentences, progress_per=10000)\n",
    "\n",
    "# training\n",
    "w2v_model.train(sentences, total_examples=w2v_model.corpus_count, epochs=10, report_delay=1)\n",
    "w2v_model.init_sims(replace=True)"
   ]
  },
  {
   "cell_type": "markdown",
   "metadata": {
    "id": "wMxLQ-cJe3wl"
   },
   "source": [
    "# Experiments with trained Word Embeddings"
   ]
  },
  {
   "cell_type": "code",
   "execution_count": 14,
   "metadata": {
    "colab": {
     "base_uri": "https://localhost:8080/"
    },
    "id": "nvx5AJ9re0xe",
    "outputId": "08bf4271-bd24-4a36-db93-03f6e6aa6e92"
   },
   "outputs": [
    {
     "name": "stdout",
     "output_type": "stream",
     "text": [
      "Size of the vocabulary: 17765 unique words have been considered\n",
      "\n",
      "Word vector of woman\n",
      "[-1.77043289e-01  1.05596259e-01 -1.08776957e-01  1.73159152e-01\n",
      "  4.37706038e-02  3.41340713e-02  3.35825235e-02  3.10950670e-02\n",
      "  5.74542172e-02 -2.52779275e-01 -1.21950805e-04 -1.25797793e-01\n",
      "  1.03698313e-01 -3.99098508e-02  1.04754396e-01  1.23404205e-01\n",
      "  1.84963979e-02 -5.37105389e-02 -4.07016370e-03 -1.79771870e-01\n",
      "  2.66232435e-02  1.12816341e-01  8.91101658e-02 -3.81891802e-02\n",
      " -1.09542914e-01 -1.00102857e-01 -2.42713597e-02 -1.03569292e-01\n",
      "  3.47996242e-02  1.16305113e-01  8.07844326e-02  1.19997457e-01\n",
      " -1.20469611e-02 -2.42712498e-01 -4.64356393e-02  1.52295604e-01\n",
      "  1.45511389e-01 -6.20245300e-02 -4.55367379e-02 -1.09531768e-01\n",
      "  1.97086707e-01 -5.15690148e-02  3.22786830e-02  4.20869701e-02\n",
      "  6.56944066e-02 -1.96895399e-03 -3.08838510e-03 -1.99449748e-01\n",
      " -3.67376953e-02  4.27766442e-02  1.78877294e-01 -1.45005256e-01\n",
      " -2.09203452e-01 -3.93810049e-02  9.62130576e-02  4.11888435e-02\n",
      " -7.10374564e-02  3.84712219e-02 -1.31964669e-01  1.01733059e-01\n",
      "  1.78922918e-02 -5.49210981e-02  2.63305772e-02  6.67421371e-02\n",
      " -3.40480432e-02 -5.43656759e-02 -4.16191947e-03  8.61086324e-02\n",
      "  4.28840406e-02  3.11096373e-04 -4.10721600e-02 -4.66585383e-02\n",
      " -3.05782445e-02 -1.66725218e-02  1.57831550e-01 -1.38910100e-01\n",
      " -3.24376114e-02  1.40677348e-01 -3.96302901e-03  1.25381231e-01\n",
      " -1.13127440e-01 -1.33582696e-01 -2.02986568e-01  6.23893104e-02\n",
      " -1.26096432e-03  1.04858182e-01  9.72175449e-02 -2.05853079e-02\n",
      "  8.90340433e-02 -3.52490358e-02  6.81220442e-02  3.21623534e-02\n",
      "  5.79543300e-02 -9.40501317e-02  1.27216697e-01 -1.10028649e-03\n",
      "  6.10317849e-02 -1.66947111e-01 -1.51657850e-01 -2.62054726e-02]\n",
      "\n",
      "Words with most similar vector representations to woman\n",
      "[('girl', 0.7910926342010498), ('person', 0.7394036650657654), ('man', 0.7062971591949463), ('lady', 0.6879251003265381), ('actress', 0.6855500936508179), ('gal', 0.6646643280982971), ('prostitute', 0.6638970971107483), ('child', 0.661507248878479), ('nun', 0.6549239754676819), ('creature', 0.6447154879570007)]\n",
      "\n",
      "Cosine similarity to other words:\n",
      "0.70629716\n",
      "0.3715725\n"
     ]
    }
   ],
   "source": [
    "# word vectors are stored in model.wv\n",
    "print(\"Size of the vocabulary: %d unique words have been considered\" % len(w2v_model.wv.index_to_key))\n",
    "\n",
    "example_word = 'woman'\n",
    "print(\"\\nWord vector of \" + example_word)\n",
    "print(w2v_model.wv[example_word])\n",
    "\n",
    "# nearest neighbours:\n",
    "print(\"\\nWords with most similar vector representations to \" + example_word)\n",
    "print(w2v_model.wv.most_similar(example_word))\n",
    "\n",
    "# similarity between two word vectors:\n",
    "print(\"\\nCosine similarity to other words:\")\n",
    "print(w2v_model.wv.similarity('woman', 'man'))\n",
    "print(w2v_model.wv.similarity('woman', 'tree'))"
   ]
  },
  {
   "cell_type": "markdown",
   "metadata": {
    "id": "6D4d7Sw5igHu"
   },
   "source": [
    "Note:<br>\n",
    "The calculated nearest neighbours (mostly) seem to make sense! Remember: we did not include any knowledge database into our model; all this meaning is extracted from the occurrences in the data based on the principle of Distributional Semantics."
   ]
  },
  {
   "cell_type": "markdown",
   "metadata": {
    "id": "rxzC3JvKiz6m"
   },
   "source": [
    "## Visualization of word vectors\n",
    "\n",
    "We can display (some of) the vectors in a 2d-space by reducing the dimension with PCA and t-SNE."
   ]
  },
  {
   "cell_type": "code",
   "execution_count": 15,
   "metadata": {
    "colab": {
     "base_uri": "https://localhost:8080/",
     "height": 542
    },
    "id": "089Cr1qHi57N",
    "outputId": "62cf3f2b-eb88-4630-c6e9-aa4132cb7dea"
   },
   "outputs": [
    {
     "data": {
      "image/png": "[encoded data removed]",
      "text/plain": [
       "<Figure size 432x288 with 1 Axes>"
      ]
     },
     "metadata": {
      "needs_background": "light"
     },
     "output_type": "display_data"
    }
   ],
   "source": [
    "import numpy as np\n",
    "labels = []\n",
    "count = 0\n",
    "max_count = 100\n",
    "X = np.zeros(shape=(max_count, len(w2v_model.wv['woman'])))\n",
    "\n",
    "for term in w2v_model.wv.index_to_key:\n",
    "    X[count] = w2v_model.wv[term]\n",
    "    labels.append(term)\n",
    "    count+= 1\n",
    "    if count >= max_count: break\n",
    "\n",
    "# It is recommended to use PCA first to reduce to ~50 dimensions\n",
    "from sklearn.decomposition import PCA\n",
    "pca = PCA(n_components=30)\n",
    "X_50 = pca.fit_transform(X)\n",
    "\n",
    "# Using t-SNE to further reduce to 2 dimensions\n",
    "from sklearn.manifold import TSNE\n",
    "model_tsne = TSNE(n_components=2, random_state=0)\n",
    "Y = model_tsne.fit_transform(X_50)\n",
    "\n",
    "\n",
    "# Show the scatter plot\n",
    "import matplotlib.pyplot as plt\n",
    "plt.scatter(Y[:,0], Y[:,1], 20)\n",
    "\n",
    "plt.rcParams[\"figure.figsize\"] = (20,10)\n",
    "\n",
    "# Add labels\n",
    "for label, x, y in zip(labels, Y[:, 0], Y[:, 1]):\n",
    "    plt.annotate(label, xy = (x,y), xytext = (0, 0), textcoords = 'offset points', size = 12)\n",
    "\n",
    "plt.show()"
   ]
  },
  {
   "cell_type": "markdown",
   "metadata": {
    "id": "rK68qn4_bK2X"
   },
   "source": [
    "We can also save the word vectors and look at (very cool) projections at https://projector.tensorflow.org/\n",
    "\n"
   ]
  },
  {
   "cell_type": "code",
   "execution_count": 16,
   "metadata": {
    "id": "6Sbg3W-PbiRx"
   },
   "outputs": [],
   "source": [
    "# save words in words.tsv\n",
    "# save corresponding word embedding vectors in vectors.tsv\n",
    "with open(\"words.tsv\", 'w', encoding='utf-8') as words_outfile:\n",
    "    with open(\"vectors.tsv\", 'w', encoding='utf-8') as vectors_outfile:\n",
    "        words_outfile.write('')\n",
    "        vectors_outfile.write('\\t'.join('' for value in w2v_model.wv[w2v_model.wv.index_to_key[0]]) + '\\n')\n",
    "        for word in w2v_model.wv.index_to_key:\n",
    "            words_outfile.write(word + '\\n')\n",
    "            vectors_outfile.write('\\t'.join(str(value) for value in w2v_model.wv[word]) + '\\n')"
   ]
  },
  {
   "cell_type": "markdown",
   "metadata": {
    "id": "dF8LoOnKh4-s"
   },
   "source": [
    "## Analogy recovery"
   ]
  },
  {
   "cell_type": "code",
   "execution_count": 17,
   "metadata": {
    "colab": {
     "base_uri": "https://localhost:8080/"
    },
    "id": "T8jAkqRch4nj",
    "outputId": "ca8191c3-1fb3-41e0-89f8-ff96cb6c71ff"
   },
   "outputs": [
    {
     "data": {
      "text/plain": [
       "[('girl', 0.7910926342010498),\n",
       " ('person', 0.7394036650657654),\n",
       " ('man', 0.7062971591949463),\n",
       " ('lady', 0.6879251003265381),\n",
       " ('actress', 0.6855500936508179),\n",
       " ('gal', 0.6646643280982971),\n",
       " ('prostitute', 0.6638970971107483),\n",
       " ('child', 0.661507248878479),\n",
       " ('nun', 0.6549239754676819),\n",
       " ('creature', 0.6447154879570007)]"
      ]
     },
     "execution_count": 17,
     "metadata": {},
     "output_type": "execute_result"
    }
   ],
   "source": [
    "# we can use the parameters \"positive\" and \"negative\" to add/subtract vectors\n",
    "w2v_model.wv.most_similar(positive=[\"woman\"])"
   ]
  },
  {
   "cell_type": "markdown",
   "metadata": {
    "id": "tozTPRX0iL6q"
   },
   "source": [
    "\"woman\" is to \"girl\" like \"man\" is to ...?\n",
    "\n",
    "\"girl\" - \"woman\" + \"man\""
   ]
  },
  {
   "cell_type": "code",
   "execution_count": 18,
   "metadata": {
    "colab": {
     "base_uri": "https://localhost:8080/"
    },
    "id": "SQj2vz0Mgo20",
    "outputId": "bd50ea38-6fc9-40f6-feb9-68cf35d2303b"
   },
   "outputs": [
    {
     "data": {
      "text/plain": [
       "[('boy', 0.7021631598472595),\n",
       " ('kid', 0.6702009439468384),\n",
       " ('gal', 0.638752818107605),\n",
       " ('guy', 0.6374076008796692),\n",
       " ('fella', 0.6318649053573608),\n",
       " ('son-of-a-bitch', 0.6253299713134766),\n",
       " ('gus', 0.6061534881591797),\n",
       " ('buddy', 0.6015918850898743),\n",
       " ('sitter', 0.5995950698852539),\n",
       " ('cat', 0.5989652872085571)]"
      ]
     },
     "execution_count": 18,
     "metadata": {},
     "output_type": "execute_result"
    }
   ],
   "source": [
    "w2v_model.wv.most_similar(positive=[\"girl\", \"man\"], negative=[\"woman\"])"
   ]
  },
  {
   "cell_type": "code",
   "execution_count": 19,
   "metadata": {
    "colab": {
     "base_uri": "https://localhost:8080/"
    },
    "id": "c-j7qDoCjb4w",
    "outputId": "3e28c7bd-9d65-49c2-89d6-7537cb722ea0"
   },
   "outputs": [
    {
     "data": {
      "text/plain": [
       "[('locker', 0.6270676851272583),\n",
       " ('refrigerator', 0.6235319972038269),\n",
       " ('garage', 0.6204210519790649),\n",
       " ('yard', 0.6104682683944702),\n",
       " ('gym', 0.6014567017555237),\n",
       " ('cafeteria', 0.6005672216415405),\n",
       " ('fridge', 0.5879442095756531),\n",
       " ('cellar', 0.58180832862854),\n",
       " ('sled', 0.576114296913147),\n",
       " ('freeway', 0.5749862194061279)]"
      ]
     },
     "execution_count": 19,
     "metadata": {},
     "output_type": "execute_result"
    }
   ],
   "source": [
    "w2v_model.wv.most_similar(positive=[\"kitchen\", \"man\"], negative=[\"woman\"])\n",
    "# note: these embeddings are trained on movie lines, which might include sexist bias."
   ]
  },
  {
   "cell_type": "code",
   "execution_count": 20,
   "metadata": {
    "colab": {
     "base_uri": "https://localhost:8080/"
    },
    "id": "unnWNLQ-kOBV",
    "outputId": "977845f5-1c76-435f-b874-5437d75378b6"
   },
   "outputs": [
    {
     "data": {
      "text/plain": [
       "[('seafood', 0.614383339881897),\n",
       " ('straw', 0.6042576432228088),\n",
       " ('tuna', 0.597927451133728),\n",
       " ('donut', 0.5969557762145996),\n",
       " ('biscuits', 0.5960655212402344),\n",
       " ('tuba', 0.5955036282539368),\n",
       " ('iced', 0.594283938407898),\n",
       " ('low-life', 0.5896380543708801),\n",
       " ('champ', 0.5895031094551086),\n",
       " ('boiling', 0.5842174291610718)]"
      ]
     },
     "execution_count": 20,
     "metadata": {},
     "output_type": "execute_result"
    }
   ],
   "source": [
    "w2v_model.wv.most_similar(positive=[\"pizza\", \"germany\"], negative=[\"italy\"])\n",
    "# Not every attempt at analogy recovery returns results we would expect.\n",
    "# This model is not perfect. The WEs are not based on that much data and the dataset is biased."
   ]
  },
  {
   "cell_type": "markdown",
   "metadata": {
    "id": "nekAPm8WoT8M"
   },
   "source": [
    "For further optimization of the training process you can use the parameter \"negative\" to use negative sampling instead of softmax. There is some discussion on that in the Word2Vec papers by Mikolov et al."
   ]
  },
  {
   "cell_type": "markdown",
   "metadata": {
    "id": "Jtkf9huYoPmL"
   },
   "source": [
    "# Exercises:\n",
    "\n",
    "1.   Set a reasonable value for the parameter \"min_count\" for training WEs on this dataset. You should always make such choices consciously and be able to explain your choice. Try to avoid \"magic numbers\". \n",
    "Give a (scientific) justification for your choice.\n",
    "\n",
    "2.   Perform a qualitative evaluation of the WE model. \n",
    "\n",
    "    *   Select (at least) 3 words and for each look at the nearest neighbours according to the model. Do the results make sense according to your idea of the meaning of the word? \n",
    "    *   Define (at least) 2 experiments for analogy recovery and look at the predictions for nearest neighbours according to the model. Do the results make sense?\n",
    "    *   Select an ambiguous word - a word which you expect to have been used in movie lines with different meanings. What is the similarity to a related word of one meaning? What is the similarity to a related word of another/the other meaning? (for example if you would select \"mouse\", you could compute the similarity to \"rat\" and to \"keyboard\" and would expect both values to be relatively high)\n",
    "\n",
    "3.   Remove stopwords and punctuation from the data before training Word Embeddings (you can use the lists below). Perform training and the evaluation above (2.) again. Do the results improve?\n",
    "\n"
   ]
  },
  {
   "cell_type": "markdown",
   "metadata": {},
   "source": [
    "### Question 1"
   ]
  },
  {
   "cell_type": "markdown",
   "metadata": {},
   "source": [
    "I have selected the value 1 for min_count because of the reason that it will take into account more relevant words for calculating word embeddings and more words means the predictions will be more accurate."
   ]
  },
  {
   "cell_type": "code",
   "execution_count": 21,
   "metadata": {},
   "outputs": [],
   "source": [
    "#Initializing the model with the min_count = 1\n",
    "w2v_model = gensim.models.Word2Vec(min_count=1,\n",
    "                                   window=3,\n",
    "                                   vector_size=100,  # this parameter is called 'vector_size' in more recent versions of gensim\n",
    "                                   workers=cores,\n",
    "                                   sg=1\n",
    "                                   )"
   ]
  },
  {
   "cell_type": "code",
   "execution_count": 22,
   "metadata": {},
   "outputs": [],
   "source": [
    "# defining the vocabulary based on data\n",
    "w2v_model.build_vocab(sentences, progress_per=10000)\n",
    "\n",
    "# training\n",
    "w2v_model.train(sentences, total_examples=w2v_model.corpus_count, epochs=10, report_delay=1)\n",
    "w2v_model.init_sims(replace=True)"
   ]
  },
  {
   "cell_type": "code",
   "execution_count": 23,
   "metadata": {},
   "outputs": [
    {
     "name": "stdout",
     "output_type": "stream",
     "text": [
      "Size of the vocabulary: 61238 unique words have been considered\n",
      "\n",
      "Words with most similar vector representations to woman\n",
      "[('girl', 0.8033332824707031), ('person', 0.7937257289886475), ('man', 0.7339596152305603), ('lady', 0.7198969125747681), ('prostitute', 0.7131780385971069), ('actress', 0.7129101753234863), ('nun', 0.7110179662704468), ('gal', 0.6910531520843506), ('stenographer', 0.682262659072876), ('millionaire', 0.6809649467468262)]\n",
      "\n",
      "Cosine similarity to other words:\n",
      "0.7339596\n",
      "0.42401397\n"
     ]
    }
   ],
   "source": [
    "# word vectors are stored in model.wv\n",
    "print(\"Size of the vocabulary: %d unique words have been considered\" % len(w2v_model.wv.index_to_key))\n",
    "\n",
    "example_word = 'woman'\n",
    "\n",
    "# nearest neighbours:\n",
    "print(\"\\nWords with most similar vector representations to \" + example_word)\n",
    "print(w2v_model.wv.most_similar(example_word))\n",
    "\n",
    "# similarity between two word vectors:\n",
    "print(\"\\nCosine similarity to other words:\")\n",
    "print(w2v_model.wv.similarity('woman', 'man'))\n",
    "print(w2v_model.wv.similarity('woman', 'tree'))"
   ]
  },
  {
   "cell_type": "markdown",
   "metadata": {},
   "source": [
    "As it can be seen the cosine similarity increased when min_count was set to 1 because more words contributes for creating the word embeddings."
   ]
  },
  {
   "cell_type": "markdown",
   "metadata": {},
   "source": [
    "### Question 2"
   ]
  },
  {
   "cell_type": "markdown",
   "metadata": {},
   "source": [
    "###### Select (at least) 3 words and for each look at the nearest neighbours according to the model. Do the results make sense according to your idea of the meaning of the word?"
   ]
  },
  {
   "cell_type": "code",
   "execution_count": 24,
   "metadata": {},
   "outputs": [
    {
     "name": "stdout",
     "output_type": "stream",
     "text": [
      "\n",
      "Words with most similar vector representations to computer\n",
      "[('mainframe', 0.6928532123565674), ('disc', 0.6739301681518555), ('network', 0.6687009334564209), ('fail-safe', 0.6517800092697144), ('video', 0.6475640535354614), ('archive', 0.6375060081481934), ('radio', 0.635395884513855), ('administration', 0.634968638420105), ('program', 0.628436267375946), ('codes', 0.6211806535720825)]\n",
      "\n",
      "Words with most similar vector representations to mystery\n",
      "[('democracy', 0.7545844316482544), ('wacko', 0.7365074157714844), ('wrestling', 0.7323546409606934), ('tragedy', 0.7304727435112), ('talent', 0.7223789095878601), ('adjustment', 0.7185423374176025), ('romance', 0.7173405289649963), ('profession', 0.7169383764266968), ('economy', 0.7153579592704773), ('menace', 0.7140957117080688)]\n",
      "\n",
      "Words with most similar vector representations to game\n",
      "[('poker', 0.6857396364212036), ('gig', 0.6802531480789185), ('hockey', 0.6779996156692505), ('arcade', 0.6769979596138), ('tennis', 0.6670846939086914), ('tuba', 0.6658939123153687), ('chess', 0.661096453666687), ('league', 0.6567195057868958), ('football', 0.6558771729469299), ('billiards', 0.6557881832122803)]\n"
     ]
    }
   ],
   "source": [
    "test_words = ['computer', 'mystery', 'game']\n",
    "\n",
    "for wrd in test_words:\n",
    "    print(\"\\nWords with most similar vector representations to \" + wrd)\n",
    "    print(w2v_model.wv.most_similar(wrd))"
   ]
  },
  {
   "cell_type": "markdown",
   "metadata": {},
   "source": [
    "###### Define (at least) 2 experiments for analogy recovery and look at the predictions for nearest neighbours according to the model. Do the results make sense?"
   ]
  },
  {
   "cell_type": "code",
   "execution_count": 25,
   "metadata": {},
   "outputs": [
    {
     "data": {
      "text/plain": [
       "[('jor-el', 0.7215265035629272),\n",
       " ('quest', 0.7203720808029175),\n",
       " ('youngest', 0.7129638195037842),\n",
       " ('sanctuary', 0.7049524784088135),\n",
       " ('janitor', 0.7046830654144287),\n",
       " ('ruler', 0.701348066329956),\n",
       " ('jedi', 0.7006146311759949),\n",
       " ('legend', 0.6983488202095032),\n",
       " ('blessing', 0.6978733539581299),\n",
       " ('wessex', 0.6906274557113647)]"
      ]
     },
     "execution_count": 25,
     "metadata": {},
     "output_type": "execute_result"
    }
   ],
   "source": [
    "w2v_model.wv.most_similar(positive=['future', 'king'])"
   ]
  },
  {
   "cell_type": "code",
   "execution_count": 26,
   "metadata": {},
   "outputs": [
    {
     "data": {
      "text/plain": [
       "[('soldiers', 0.5011719465255737),\n",
       " ('squad', 0.4884227514266968),\n",
       " ('prison', 0.47188469767570496),\n",
       " ('pilots', 0.4575333595275879),\n",
       " ('navy', 0.45265722274780273),\n",
       " ('country', 0.4493798315525055),\n",
       " ('crew', 0.44679516553878784),\n",
       " ('america', 0.44105756282806396),\n",
       " ('attorney', 0.4407457113265991),\n",
       " ('president', 0.43793249130249023)]"
      ]
     },
     "execution_count": 26,
     "metadata": {},
     "output_type": "execute_result"
    }
   ],
   "source": [
    "w2v_model.wv.most_similar(positive=['pilot', 'army'], negative=['aeroplane'])"
   ]
  },
  {
   "cell_type": "markdown",
   "metadata": {},
   "source": [
    "The model above make some sense but not completely because some of the predictions are not related to the outputs that we are anticipating. But if we train the model with more diverse data, the output can be improved."
   ]
  },
  {
   "cell_type": "markdown",
   "metadata": {
    "tags": []
   },
   "source": [
    "###### Select an ambiguous word - a word which you expect to have been used in movie lines with different meanings. What is the similarity to a related word of one meaning? What is the similarity to a related word of another/the other meaning?"
   ]
  },
  {
   "cell_type": "code",
   "execution_count": 27,
   "metadata": {},
   "outputs": [
    {
     "name": "stdout",
     "output_type": "stream",
     "text": [
      "\n",
      "Words with most similar vector representations to head\n",
      "[('spine', 0.7342522144317627), ('wrists', 0.7240755558013916), ('nose', 0.7228375673294067), ('mouth', 0.711392343044281), ('belly', 0.7110751867294312), ('elbow', 0.701065182685852), ('forehead', 0.7000821828842163), ('throat', 0.6934838891029358), ('wrist', 0.6905859708786011), ('eyeballs', 0.6876295804977417)]\n"
     ]
    }
   ],
   "source": [
    "#The word 'head' has two meanings -> a part of body and also a Leader\n",
    "ambiguous_word = 'head'\n",
    "print(\"\\nWords with most similar vector representations to \" + ambiguous_word)\n",
    "print(w2v_model.wv.most_similar(ambiguous_word))"
   ]
  },
  {
   "cell_type": "markdown",
   "metadata": {},
   "source": [
    "From above results, we can see that the word head is more similar to the terms related to body parts like spine, nose etc. and there are NO words that relates to leaders qualities. So we have to apply more different techniques to make it more robust."
   ]
  },
  {
   "cell_type": "markdown",
   "metadata": {},
   "source": [
    "### Question 3"
   ]
  },
  {
   "cell_type": "markdown",
   "metadata": {},
   "source": [
    "###### Downloading and Importing english stopwords"
   ]
  },
  {
   "cell_type": "code",
   "execution_count": 28,
   "metadata": {
    "colab": {
     "base_uri": "https://localhost:8080/"
    },
    "id": "3x7EwEf-muWI",
    "outputId": "e8b34ddc-3993-47fe-8914-634295d9ed0c"
   },
   "outputs": [],
   "source": [
    "import nltk\n",
    "#nltk.download('stopwords')\n",
    "from nltk.corpus import stopwords\n",
    "english_stopwords = stopwords.words('english')"
   ]
  },
  {
   "cell_type": "markdown",
   "metadata": {},
   "source": [
    "###### Function to remove all the punctuations from a string"
   ]
  },
  {
   "cell_type": "code",
   "execution_count": 29,
   "metadata": {},
   "outputs": [],
   "source": [
    "import string\n",
    "def remove_punctuations(str_text):\n",
    "    return str_text.translate(str.maketrans('', '', string.punctuation))"
   ]
  },
  {
   "cell_type": "markdown",
   "metadata": {},
   "source": [
    "###### Tokenize sentences and words and removing the stop words and punctuations"
   ]
  },
  {
   "cell_type": "code",
   "execution_count": 30,
   "metadata": {
    "id": "yeBSU4exr3G6"
   },
   "outputs": [
    {
     "data": {
      "text/plain": [
       "304641"
      ]
     },
     "execution_count": 30,
     "metadata": {},
     "output_type": "execute_result"
    }
   ],
   "source": [
    "updated_sentences = []\n",
    "for line in movie_lines:\n",
    "    line_sents = sent_tokenize(remove_punctuations(line))\n",
    "    for sent in line_sents:\n",
    "        updated_sentences.append([word for word in tokenizer.tokenize(sent) if word not in english_stopwords])\n",
    "len(updated_sentences)"
   ]
  },
  {
   "cell_type": "markdown",
   "metadata": {},
   "source": [
    "###### Creating the word counter"
   ]
  },
  {
   "cell_type": "code",
   "execution_count": 31,
   "metadata": {},
   "outputs": [
    {
     "data": {
      "text/plain": [
       "65285"
      ]
     },
     "execution_count": 31,
     "metadata": {},
     "output_type": "execute_result"
    }
   ],
   "source": [
    "words = Counter(c for clist in updated_sentences for c in clist)\n",
    "len(words)"
   ]
  },
  {
   "cell_type": "markdown",
   "metadata": {},
   "source": [
    "###### Creating and training the model for generating word embeddings"
   ]
  },
  {
   "cell_type": "code",
   "execution_count": 32,
   "metadata": {},
   "outputs": [],
   "source": [
    "w2v_model = gensim.models.Word2Vec(min_count=1,\n",
    "                                   window=3,\n",
    "                                   vector_size=100,  # this parameter is called 'vector_size' in more recent versions of gensim\n",
    "                                   workers=cores,\n",
    "                                   sg=1\n",
    "                                   )"
   ]
  },
  {
   "cell_type": "code",
   "execution_count": 33,
   "metadata": {},
   "outputs": [],
   "source": [
    "# defining the vocabulary based on our data\n",
    "w2v_model.build_vocab(updated_sentences, progress_per=10000)\n",
    "\n",
    "# training\n",
    "w2v_model.train(updated_sentences, total_examples=w2v_model.corpus_count, epochs=10, report_delay=1)\n",
    "w2v_model.init_sims(replace=True)"
   ]
  },
  {
   "cell_type": "code",
   "execution_count": 34,
   "metadata": {},
   "outputs": [
    {
     "name": "stdout",
     "output_type": "stream",
     "text": [
      "Size of the vocabulary: 65285 unique words have been considered\n",
      "\n",
      "Words with most similar vector representations to woman\n",
      "[('girl', 0.6963158845901489), ('marrying', 0.6756986379623413), ('evelyn', 0.6597221493721008), ('lover', 0.6559293270111084), ('relative', 0.6483725309371948), ('madeleine', 0.6474334001541138), ('trophy', 0.6464991569519043), ('dame', 0.6462740898132324), ('lady', 0.6431680917739868), ('maxine', 0.6426957249641418)]\n",
      "\n",
      "Cosine similarity to other words:\n",
      "0.6201687\n",
      "0.44141883\n"
     ]
    }
   ],
   "source": [
    "# word vectors are stored in model.wv\n",
    "print(\"Size of the vocabulary: %d unique words have been considered\" % len(w2v_model.wv.index_to_key))\n",
    "\n",
    "example_word = 'woman'\n",
    "\n",
    "# nearest neighbours:\n",
    "print(\"\\nWords with most similar vector representations to \" + example_word)\n",
    "print(w2v_model.wv.most_similar(example_word))\n",
    "\n",
    "# similarity between two word vectors:\n",
    "print(\"\\nCosine similarity to other words:\")\n",
    "print(w2v_model.wv.similarity('woman', 'man'))\n",
    "print(w2v_model.wv.similarity('woman', 'tree'))"
   ]
  },
  {
   "cell_type": "markdown",
   "metadata": {},
   "source": [
    "From the above, we can see that that the similarity metric decreases as we removed the stopwords and punctuations. The stopwords provide the context of the user's intentions and provide the context to words also like word negations etc. So removing them will decrease the mappings for our word embeddings"
   ]
  }
 ],
 "metadata": {
  "colab": {
   "collapsed_sections": [],
   "name": "SS22_NLP_embeddings.ipynb",
   "provenance": [],
   "toc_visible": true
  },
  "kernelspec": {
   "display_name": "Python 3 (ipykernel)",
   "language": "python",
   "name": "python3"
  },
  "language_info": {
   "codemirror_mode": {
    "name": "ipython",
    "version": 3
   },
   "file_extension": ".py",
   "mimetype": "text/x-python",
   "name": "python",
   "nbconvert_exporter": "python",
   "pygments_lexer": "ipython3",
   "version": "3.8.12"
  }
 },
 "nbformat": 4,
 "nbformat_minor": 4
}
